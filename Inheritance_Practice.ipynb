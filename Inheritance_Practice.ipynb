{
  "nbformat": 4,
  "nbformat_minor": 0,
  "metadata": {
    "colab": {
      "provenance": [],
      "authorship_tag": "ABX9TyO1YvpWCd5XjS7xSMZidUmc",
      "include_colab_link": true
    },
    "kernelspec": {
      "name": "python3",
      "display_name": "Python 3"
    },
    "language_info": {
      "name": "python"
    }
  },
  "cells": [
    {
      "cell_type": "markdown",
      "metadata": {
        "id": "view-in-github",
        "colab_type": "text"
      },
      "source": [
        "<a href=\"https://colab.research.google.com/github/birusolankar/Tasks/blob/main/Inheritance_Practice.ipynb\" target=\"_parent\"><img src=\"https://colab.research.google.com/assets/colab-badge.svg\" alt=\"Open In Colab\"/></a>"
      ]
    },
    {
      "cell_type": "code",
      "execution_count": 1,
      "metadata": {
        "id": "HrxJHl0R0MNi"
      },
      "outputs": [],
      "source": [
        "# create employee class\n",
        "class Employee:\n",
        "\n",
        "  def __init__(self, fname, lname):\n",
        "    self.name = fname\n",
        "    self.lname = lname\n",
        "\n",
        "  def getname(self):\n",
        "    return f\"I am {self.name} {self.lname}\"\n"
      ]
    },
    {
      "cell_type": "code",
      "source": [
        "obj = Employee('biru' , 'solankar')"
      ],
      "metadata": {
        "id": "gKgUOa4_0nAr"
      },
      "execution_count": 2,
      "outputs": []
    },
    {
      "cell_type": "code",
      "source": [
        "obj.getname()"
      ],
      "metadata": {
        "colab": {
          "base_uri": "https://localhost:8080/",
          "height": 35
        },
        "id": "73rqMebq1dlO",
        "outputId": "39cf0476-8c56-40bb-bdb7-1b06595f701d"
      },
      "execution_count": 3,
      "outputs": [
        {
          "output_type": "execute_result",
          "data": {
            "text/plain": [
              "'I am biru solankar'"
            ],
            "application/vnd.google.colaboratory.intrinsic+json": {
              "type": "string"
            }
          },
          "metadata": {},
          "execution_count": 3
        }
      ]
    },
    {
      "cell_type": "markdown",
      "source": [
        "Problem 1: Basic Vehicle Inheritance\n",
        "\n",
        "Scenario: Create a base class called Vehicle with attributes like make, model, and year. Then, create two derived classes: Car and Motorcycle. The Car class should have an additional attribute for the number of doors, while the Motorcycle class should have an attribute for engine displacement. Override a method like display_info() in each class to print relevant details.\n",
        "Focus: Understanding basic inheritance, creating derived classes, and adding specific attributes."
      ],
      "metadata": {
        "id": "4xnGYvhFde9w"
      }
    },
    {
      "cell_type": "code",
      "source": [
        "class Vehicle:\n",
        "\n",
        "  def __init__(self, make, model, year):\n",
        "    self.make = make\n",
        "    self.model = model\n",
        "    self.year = year\n",
        "\n",
        "  def display_info(self):\n",
        "      return f\"{self.make, self.model, self.year}\"\n",
        "\n",
        "class Car(Vehicle):\n",
        "  def __init__(self, make, model, year, doors):\n",
        "    super().__init__(make, model, year)\n",
        "    self.doors = doors\n",
        "\n",
        "  def display_info(self):\n",
        "    return f\"{self.year, self.doors}\"\n",
        "\n",
        "class Motorcycle(Vehicle):\n",
        "  def __init__(self, make, model, year, engine):\n",
        "    super().__init__(make, model, year)\n",
        "    self.engine = engine\n",
        "\n",
        "  def display_info(self):\n",
        "    return f\"{self.year, self.engine}\"\n",
        "\n",
        "v1 = Vehicle('TATA', 'SUV', 2009)\n",
        "\n",
        "c1 = Car('TATA', 'SUV', 2009, 4)\n",
        "\n",
        "m1 = Motorcycle('TATA', 'SUV', 2009, 2)"
      ],
      "metadata": {
        "id": "IwQp3ZvRbdjY"
      },
      "execution_count": 4,
      "outputs": []
    },
    {
      "cell_type": "code",
      "source": [
        "print(v1.display_info())\n",
        "print(c1.display_info())\n",
        "print(m1.display_info())"
      ],
      "metadata": {
        "colab": {
          "base_uri": "https://localhost:8080/"
        },
        "id": "NZErM5p5e81y",
        "outputId": "aff729be-239f-4b34-fb72-8cc3790087b8"
      },
      "execution_count": 5,
      "outputs": [
        {
          "output_type": "stream",
          "name": "stdout",
          "text": [
            "('TATA', 'SUV', 2009)\n",
            "(2009, 4)\n",
            "(2009, 2)\n"
          ]
        }
      ]
    },
    {
      "cell_type": "markdown",
      "source": [
        "Problem 2: Bank Account with Interest\n",
        "\n",
        "Scenario: Design a BankAccount class with methods for deposit, withdrawal, and displaying the balance. Create a derived class called SavingsAccount that inherits from BankAccount and adds an interest rate attribute. Implement a method to calculate and add interest to the account balance.\n",
        "Focus: Applying inheritance to real-world scenarios, overriding methods (potentially the display_balance() method to show interest), and adding functionality to derived classes."
      ],
      "metadata": {
        "id": "uof-VbmTgRM1"
      }
    },
    {
      "cell_type": "code",
      "source": [
        "class BankAccount:\n",
        "\n",
        "  def __init__(self, pin, balance):\n",
        "    self.pin = pin\n",
        "    self.balance = balance\n",
        "\n",
        "  def deposit(self, amount):\n",
        "    user_input = int(input(\"enter the pin: \"))\n",
        "    self.pin = user_input\n",
        "    self.balance += amount\n",
        "    print('amount deposited successfully and current balance is: ', self.balance)\n",
        "\n",
        "  def withdrawal(self):\n",
        "    user_input = int(input(\"enter the pin\"))\n",
        "    if user_input == self.pin:\n",
        "      amount = int(input(\"enter the amount to withdraw\"))\n",
        "      if amount <= self.balance:\n",
        "        self.balance = self.balance - amount\n",
        "        print(\"withdrawal successful\")\n",
        "        print(\"remaining balance is\", self.balance)\n",
        "      else:\n",
        "        print(\"insufficient balance\")\n",
        "    else:\n",
        "      print(\"invalid pin\")\n",
        "\n",
        "  def display_balance(self):\n",
        "    user_input = int(input(\"enter the pin\"))\n",
        "    if user_input == self.pin:\n",
        "      print('pin enter successfully and balance is :', self.balance)\n",
        "    else:\n",
        "      print(\"invalid pin\")\n",
        "\n",
        "class SavingsAccount(BankAccount):\n",
        "\n",
        "  def __init__(self, pin, balance, interest_rate):\n",
        "    super().__init__(pin, balance)\n",
        "    self.interest_rate = interest_rate\n",
        "\n",
        "  def calculate_interest(self):\n",
        "    interest = self.balance*self.interest_rate\n",
        "    self.balance += interest\n",
        "    return f\"interst rate is {self.interest_rate} and current balance is {self.balance}\"\n",
        "\n"
      ],
      "metadata": {
        "id": "-VNAw3JkfoT_"
      },
      "execution_count": 23,
      "outputs": []
    },
    {
      "cell_type": "code",
      "source": [
        "s1 = SavingsAccount(1234, 10000, 0.05)\n",
        "s1.calculate_interest()"
      ],
      "metadata": {
        "colab": {
          "base_uri": "https://localhost:8080/",
          "height": 35
        },
        "id": "lweGrVgI8Hej",
        "outputId": "384c82f8-d142-407a-f4da-cd84b8bbb502"
      },
      "execution_count": 24,
      "outputs": [
        {
          "output_type": "execute_result",
          "data": {
            "text/plain": [
              "'interst balance is 0.05 and current balance is 10500.0'"
            ],
            "application/vnd.google.colaboratory.intrinsic+json": {
              "type": "string"
            }
          },
          "metadata": {},
          "execution_count": 24
        }
      ]
    },
    {
      "cell_type": "code",
      "source": [
        "s1.withdrawal()"
      ],
      "metadata": {
        "colab": {
          "base_uri": "https://localhost:8080/"
        },
        "id": "b5FdLInb8gg6",
        "outputId": "2f94008a-89a2-44e8-f882-6813fb7c4f42"
      },
      "execution_count": 25,
      "outputs": [
        {
          "output_type": "stream",
          "name": "stdout",
          "text": [
            "enter the pin1234\n",
            "enter the amount to withdraw500\n",
            "withdrawal successful\n",
            "remaining balance is 10000.0\n"
          ]
        }
      ]
    },
    {
      "cell_type": "code",
      "source": [
        "b1 = BankAccount(1234, 10000)"
      ],
      "metadata": {
        "id": "Rm32msEbltuc"
      },
      "execution_count": 17,
      "outputs": []
    },
    {
      "cell_type": "code",
      "source": [
        "b1.display_balance()"
      ],
      "metadata": {
        "colab": {
          "base_uri": "https://localhost:8080/"
        },
        "id": "K5aEhroxl0mu",
        "outputId": "daa8e928-6353-4a70-8d69-7723efdc30bf"
      },
      "execution_count": 14,
      "outputs": [
        {
          "output_type": "stream",
          "name": "stdout",
          "text": [
            "enter the pin1234\n",
            "pin enter successfully and balance is : 10000\n"
          ]
        }
      ]
    },
    {
      "cell_type": "code",
      "source": [
        "b1.deposit(500)"
      ],
      "metadata": {
        "colab": {
          "base_uri": "https://localhost:8080/"
        },
        "id": "eZ2-9YV7l-ss",
        "outputId": "cfd86772-2ee9-43b0-8f83-f7316ff5ce2c"
      },
      "execution_count": 18,
      "outputs": [
        {
          "output_type": "stream",
          "name": "stdout",
          "text": [
            "enter the pin: 1234\n",
            "amount deposited successfully and current balance is:  10500\n"
          ]
        }
      ]
    },
    {
      "cell_type": "code",
      "source": [
        "b1.withdrawal()"
      ],
      "metadata": {
        "colab": {
          "base_uri": "https://localhost:8080/"
        },
        "id": "qQfO2d3nmWuD",
        "outputId": "bf7cac2d-8904-4562-cdd7-989ca3f7e5d4"
      },
      "execution_count": null,
      "outputs": [
        {
          "name": "stdout",
          "output_type": "stream",
          "text": [
            "enter the pin1234\n",
            "enter the amount to withdraw1000\n"
          ]
        }
      ]
    },
    {
      "cell_type": "markdown",
      "source": [
        "Problem 3: Shape Hierarchy\n",
        "\n",
        "Scenario: Define a base class called Shape with methods to calculate area and perimeter. Create derived classes for specific shapes like Circle, Rectangle, and Triangle. Implement the area and perimeter calculations for each shape in their respective classes.\n",
        "Focus: Working with abstract methods (you might make area() and perimeter() abstract in the Shape class), understanding polymorphism, and implementing calculations specific to each shape."
      ],
      "metadata": {
        "id": "gOvSevPL4SX8"
      }
    },
    {
      "cell_type": "code",
      "source": [
        "# abstract base class\n",
        "from abc import ABC, abstractmethod\n",
        "\n",
        "class Shape(ABC):\n",
        "\n",
        "  @abstractmethod\n",
        "  def area(self):\n",
        "    pass\n",
        "\n",
        "  @abstractmethod\n",
        "  def perimeter(self):\n",
        "    pass\n",
        "\n",
        "# subclass circle\n",
        "class Circle(Shape):\n",
        "\n",
        "  def __init__(self, radius):\n",
        "    self.radius = radius\n",
        "\n",
        "  def area(self):\n",
        "    return f\"area of circle is: {3.14*self.radius**2}\"\n",
        "\n",
        "  def perimeter(self):\n",
        "    return f\"perimeter of circle is: {round(2*3.14*self.radius, 2)}\"\n",
        "\n",
        "# subclass Rectangle\n",
        "\n",
        "class Rectangle(Shape):\n",
        "  def __init__(self, length, breadth):\n",
        "    self.length = length\n",
        "    self.breadth = breadth\n",
        "\n",
        "  def area(self):\n",
        "      return f\"area of rectangle is: {self.length*self.breadth}\"\n",
        "\n",
        "  def perimeter(self):\n",
        "      return f\"perimeter of rectangle is: {2*(self.length+self.breadth)}\"\n",
        "\n",
        "# subclass Triangle\n",
        "\n",
        "class Triangle(Shape):\n",
        "  def __init__(self, base, side1, side2, height):\n",
        "    self.base = base\n",
        "    self.side1 = side1\n",
        "    self.side2 = side2\n",
        "    self.height = height\n",
        "\n",
        "  def area(self):\n",
        "    return f\"area of the triangle is: {0.5*self.base*self.height}\"\n",
        "\n",
        "  def perimeter(self):\n",
        "    return f\"perimeter of the triangle is: {self.base + self.side1 + self.side2}\"\n",
        ""
      ],
      "metadata": {
        "id": "KBMLylaGnWwF"
      },
      "execution_count": 42,
      "outputs": []
    },
    {
      "cell_type": "code",
      "source": [
        "c1 = Circle(5)\n",
        "print(c1.area())\n",
        "print(c1.perimeter())"
      ],
      "metadata": {
        "colab": {
          "base_uri": "https://localhost:8080/"
        },
        "id": "zAHCJzkD_V-r",
        "outputId": "315ce211-92d8-4910-bb8a-069ff77f9131"
      },
      "execution_count": 43,
      "outputs": [
        {
          "output_type": "stream",
          "name": "stdout",
          "text": [
            "area of circle is: 78.5\n",
            "perimeter of circle is: 31.4\n"
          ]
        }
      ]
    },
    {
      "cell_type": "code",
      "source": [
        "r1 = Rectangle(5, 10)\n",
        "print(r1.area())\n",
        "print(r1.perimeter())"
      ],
      "metadata": {
        "colab": {
          "base_uri": "https://localhost:8080/"
        },
        "id": "cEH2PujCCnCO",
        "outputId": "d2daf744-b310-433e-e1f5-f99bd8776e92"
      },
      "execution_count": 44,
      "outputs": [
        {
          "output_type": "stream",
          "name": "stdout",
          "text": [
            "area of rectangle is: 50\n",
            "perimeter of rectangle is: 30\n"
          ]
        }
      ]
    },
    {
      "cell_type": "code",
      "source": [
        "t1 = Triangle(5, 10, 15, 20)\n",
        "print(t1.area())\n",
        "print(t1.perimeter())"
      ],
      "metadata": {
        "colab": {
          "base_uri": "https://localhost:8080/"
        },
        "id": "rUyeiuMLCmzt",
        "outputId": "23e1590a-b1ca-4491-88c2-3e8c15cf14f6"
      },
      "execution_count": 45,
      "outputs": [
        {
          "output_type": "stream",
          "name": "stdout",
          "text": [
            "area of the triangle is: 50.0\n",
            "perimeter of the triangle is: 30\n"
          ]
        }
      ]
    },
    {
      "cell_type": "markdown",
      "source": [
        "Problem 4: Employee Management System\n",
        "\n",
        "Scenario: Build an employee management system with an Employee base class having attributes like name, ID, and salary. Create derived classes for different employee types like Manager, Developer, and Salesperson. Each derived class should have specific attributes (e.g., department for Manager, programming language for Developer) and methods (e.g., calculate bonus based on different criteria).\n",
        "Focus: Designing a more complex inheritance hierarchy, managing multiple derived classes, and implementing different behaviors for each employee type."
      ],
      "metadata": {
        "id": "FFEluCKL4VgU"
      }
    },
    {
      "cell_type": "code",
      "source": [
        "# base class\n",
        "class Employee:\n",
        "  def __init__(self, name, ID, salary):\n",
        "    self.name = name\n",
        "    self.ID  = ID\n",
        "    self.salary = salary\n",
        "\n",
        "  def get_details(self):\n",
        "    return f\"Employee_Name: {self.name} \\n Employee_ID: {self.ID} \\n Salary: {self.salary}\"\n",
        "\n",
        "# Manager derived class\n",
        "class Manager(Employee):\n",
        "  def __init__(self, name, ID, salary, department):\n",
        "    super().__init__(name, ID, salary)\n",
        "    self.department = department\n",
        "\n",
        "  def get_details(self):\n",
        "    return f\"{super().get_details()} \\n department: {self.department}\"\n",
        "\n",
        "  def calculate_bonus(self):\n",
        "    return f\"bonus is {self.salary*0.01}\"\n",
        "\n",
        "# Developer derived class\n",
        "\n",
        "class Developer(Employee):\n",
        "  def __init__(self, name, ID, salary, programming_language):\n",
        "    super().__init__(name, ID, salary)\n",
        "    self.programming_language = programming_language\n",
        "\n",
        "  def get_details(self):\n",
        "    return f\"{super().get_details()} \\n programming_language: {self.programming_language}\"\n",
        "\n",
        "  def calculate_bonus(self):\n",
        "    return f\"bonus is {self.salary*0.05}\"\n",
        "\n",
        "# Salesperson derived class\n",
        "\n",
        "class Salesperson(Employee):\n",
        "  def __init__(self, name, ID, salary, sales_quota):\n",
        "    super().__init__(name, ID, salary)\n",
        "    self.sales_quota = sales_quota\n",
        "\n",
        "  def get_details(self):\n",
        "    return f\"{super().get_details()} \\n sales_quota: {self.sales_quota}\"\n",
        "\n",
        "  def calculate_bonus(self):\n",
        "    return f\"bonus is {self.salary*0.02}\"\n"
      ],
      "metadata": {
        "id": "V62yBVIu4Wls"
      },
      "execution_count": 66,
      "outputs": []
    },
    {
      "cell_type": "code",
      "source": [
        "e1 = Employee('Biru', 1234, 45000)\n",
        "print(e1.get_details())"
      ],
      "metadata": {
        "colab": {
          "base_uri": "https://localhost:8080/"
        },
        "id": "jPLcAre7Izl0",
        "outputId": "d05b89a4-f6ca-4623-f8e1-2101a8c1a867"
      },
      "execution_count": 67,
      "outputs": [
        {
          "output_type": "stream",
          "name": "stdout",
          "text": [
            "Employee_Name: Biru \n",
            " Employee_ID: 1234 \n",
            " Salary: 45000\n"
          ]
        }
      ]
    },
    {
      "cell_type": "code",
      "source": [
        "m1 = Manager('Ajay', 1234, 45000, 'IT')\n",
        "print(m1.get_details())\n",
        "print(m1.calculate_bonus())"
      ],
      "metadata": {
        "colab": {
          "base_uri": "https://localhost:8080/"
        },
        "id": "shArhmz8Izia",
        "outputId": "e1e93962-43bb-48ea-fb9f-2e0c0f0ca28a"
      },
      "execution_count": 68,
      "outputs": [
        {
          "output_type": "stream",
          "name": "stdout",
          "text": [
            "Employee_Name: Ajay \n",
            " Employee_ID: 1234 \n",
            " Salary: 45000 \n",
            " department: IT\n",
            "bonus is 450.0\n"
          ]
        }
      ]
    },
    {
      "cell_type": "code",
      "source": [
        "d1 = Developer('Varun', 1234, 45000, 'Python')\n",
        "print(d1.get_details())\n",
        "print(d1.calculate_bonus())"
      ],
      "metadata": {
        "colab": {
          "base_uri": "https://localhost:8080/"
        },
        "id": "E_Lto-KtI2A-",
        "outputId": "baa89eeb-4732-4d3d-a469-f5a00223561b"
      },
      "execution_count": 69,
      "outputs": [
        {
          "output_type": "stream",
          "name": "stdout",
          "text": [
            "Employee_Name: Varun \n",
            " Employee_ID: 1234 \n",
            " Salary: 45000 \n",
            " programming_language: Python\n",
            "bonus is 2250.0\n"
          ]
        }
      ]
    },
    {
      "cell_type": "code",
      "source": [
        "s1 = Salesperson('Raj', 1234, 45000, 10000)\n",
        "print(s1.get_details())\n",
        "print(s1.calculate_bonus())"
      ],
      "metadata": {
        "colab": {
          "base_uri": "https://localhost:8080/"
        },
        "id": "PkYMzCKjI19w",
        "outputId": "7e923e1a-fd20-417d-c7a4-239681eeaeb0"
      },
      "execution_count": 70,
      "outputs": [
        {
          "output_type": "stream",
          "name": "stdout",
          "text": [
            "Employee_Name: Raj \n",
            " Employee_ID: 1234 \n",
            " Salary: 45000 \n",
            " sales_quota: 10000\n",
            "bonus is 900.0\n"
          ]
        }
      ]
    },
    {
      "cell_type": "markdown",
      "source": [
        "Problem 5: Animal Kingdom\n",
        "\n",
        "Scenario: Create a base class Animal with attributes like name, species, and age. Then, create derived classes for different animal types (e.g., Mammal, Bird, Reptile). Further specialize by creating classes like Dog, Cat (inheriting from Mammal), Eagle, Parrot (inheriting from Bird), and so on. Implement methods for making sounds specific to each animal.\n",
        "Focus: Building a multi-level inheritance hierarchy, demonstrating polymorphism through different sound methods, and understanding how to organize classes effectively."
      ],
      "metadata": {
        "id": "6MfOlcvp4Xwg"
      }
    },
    {
      "cell_type": "code",
      "source": [
        "# Base class\n",
        "class Animal:\n",
        "  def __init__(self, name, species, age):\n",
        "    self.name = name\n",
        "    self.species = species\n",
        "    self.age = age\n",
        "\n",
        "  def get_details(self):\n",
        "    return f\"name: {self.name} \\n species: {self.species} \\n age: {self.age}\"\n",
        "\n",
        "  def make_sound(self):\n",
        "    pass\n",
        "\n",
        "# derived class Mammal from Animal\n",
        "\n",
        "class Mammal(Animal):\n",
        "\n",
        "  def make_sound(self):\n",
        "    print(\"Mammal makes sound\")\n",
        "\n",
        "# derived class Bird from Animal\n",
        "class Bird(Animal):\n",
        "\n",
        "  def make_sound(self):\n",
        "    print(\"Bird makes sound\")\n",
        "\n",
        "# derived class Reptile from Animal\n",
        "class Reptile(Animal):\n",
        "\n",
        "  def make_sound(self):\n",
        "    print(\"Reptile makes sound\")\n",
        "\n",
        "# derived class Dog from Mammal\n",
        "class Dog(Mammal):\n",
        "\n",
        "  def make_sound(self):\n",
        "    print(\"Dog barks\")\n",
        "\n",
        "# derived class Cat from Mammal\n",
        "class Cat(Mammal):\n",
        "\n",
        "  def make_sound(self):\n",
        "    print(\"Cat meows\")\n",
        "\n",
        "# derived class Snake from Reptile\n",
        "class Snake(Reptile):\n",
        "  def make_sound(self):\n",
        "    print(\"Snake slithers\")\n",
        "\n",
        "\n",
        "# derived class Eagle from Bird\n",
        "class Eagle(Bird):\n",
        "  def make_sound(self):\n",
        "    print(\"Eagle chirps\")\n",
        "\n",
        "# derived class Parrot from Bird\n",
        "class Parrot(Bird):\n",
        "  def make_sound(self):\n",
        "    print(\"Parrot chirps\")\n"
      ],
      "metadata": {
        "id": "z2igi4Ph4YkR"
      },
      "execution_count": 76,
      "outputs": []
    },
    {
      "cell_type": "code",
      "source": [
        "p1 = Parrot('Parrot', 'Bird', 2)\n",
        "print(p1.get_details())\n",
        "p1.make_sound()"
      ],
      "metadata": {
        "colab": {
          "base_uri": "https://localhost:8080/"
        },
        "id": "8iaaMFOKSnMh",
        "outputId": "cc05a459-1c73-4f12-dd6d-cbbe4432d6e0"
      },
      "execution_count": 77,
      "outputs": [
        {
          "output_type": "stream",
          "name": "stdout",
          "text": [
            "name: Parrot \n",
            " species: Bird \n",
            " age: 2\n",
            "Parrot chirps\n"
          ]
        }
      ]
    },
    {
      "cell_type": "code",
      "source": [
        "s1 = Snake('Snake', 'Reptile', 4)\n",
        "print(s1.get_details())\n",
        "s1.make_sound()"
      ],
      "metadata": {
        "colab": {
          "base_uri": "https://localhost:8080/"
        },
        "id": "mW_KRqLOSqT5",
        "outputId": "51d2fd52-4d03-4736-e876-66d2243e9cde"
      },
      "execution_count": 78,
      "outputs": [
        {
          "output_type": "stream",
          "name": "stdout",
          "text": [
            "name: Snake \n",
            " species: Reptile \n",
            " age: 4\n",
            "Snake slithers\n"
          ]
        }
      ]
    },
    {
      "cell_type": "code",
      "source": [
        "d1 = Dog('Dog', 'Mammal', 5)\n",
        "print(d1.get_details())\n",
        "d1.make_sound()"
      ],
      "metadata": {
        "colab": {
          "base_uri": "https://localhost:8080/"
        },
        "id": "9VHagYM5Szrk",
        "outputId": "6320803f-a020-48b6-c3b4-de0fc2b34a27"
      },
      "execution_count": 79,
      "outputs": [
        {
          "output_type": "stream",
          "name": "stdout",
          "text": [
            "name: Dog \n",
            " species: Mammal \n",
            " age: 5\n",
            "Dog barks\n"
          ]
        }
      ]
    },
    {
      "cell_type": "code",
      "source": [],
      "metadata": {
        "id": "PbtDk43LS3f3"
      },
      "execution_count": null,
      "outputs": []
    }
  ]
}