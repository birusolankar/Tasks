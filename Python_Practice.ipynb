{
  "nbformat": 4,
  "nbformat_minor": 0,
  "metadata": {
    "colab": {
      "provenance": [],
      "authorship_tag": "ABX9TyPbtDj9YkQzVqum1EJpIExV",
      "include_colab_link": true
    },
    "kernelspec": {
      "name": "python3",
      "display_name": "Python 3"
    },
    "language_info": {
      "name": "python"
    }
  },
  "cells": [
    {
      "cell_type": "markdown",
      "metadata": {
        "id": "view-in-github",
        "colab_type": "text"
      },
      "source": [
        "<a href=\"https://colab.research.google.com/github/birusolankar/Tasks/blob/main/Python_Practice.ipynb\" target=\"_parent\"><img src=\"https://colab.research.google.com/assets/colab-badge.svg\" alt=\"Open In Colab\"/></a>"
      ]
    },
    {
      "cell_type": "code",
      "execution_count": 1,
      "metadata": {
        "id": "6ruhgEW1coCr"
      },
      "outputs": [],
      "source": [
        "# create a banking class\n",
        "\n",
        "class Atm:\n",
        "\n",
        "  def __init__(self):  # non perimetirized constructor\n",
        "    self.pin = ''\n",
        "    self.balance = 0\n",
        "    self.menu()\n",
        "\n",
        "\n",
        "  def menu(self):\n",
        "    user_input = input(\n",
        "\n",
        "               \"\"\"\n",
        "               How can I help?\n",
        "               1. Press 1 to create pin\n",
        "               2. Press 2 to change pin\n",
        "               3. Press 3 to check balance\n",
        "               4. Press 4 to withdraw\n",
        "               5. Anythong else to exit\n",
        "               \"\"\")\n",
        "\n",
        "    if user_input == '1':\n",
        "      self.create_pin()\n",
        "    elif user_input == '2':\n",
        "      self.change_pin()\n",
        "    elif user_input == '3':\n",
        "      self.check_balance()\n",
        "    elif user_input == '4':\n",
        "      self.withdraw()\n",
        "    else:\n",
        "      exit()\n",
        "\n",
        "  # create pin method\n",
        "  def create_pin(self):\n",
        "    user_pin = input('Enter your pin')\n",
        "    self.pin = user_pin\n",
        "\n",
        "    user_balance = int(input(\"Enter the balance\"))\n",
        "    self.balance = user_balance\n",
        "\n",
        "    print(\"pin created successfully\")\n",
        "    self.menu()\n",
        "\n",
        "  # change pin method\n",
        "  def change_pin(self):\n",
        "\n",
        "    old_pin = input('enter the old pin')\n",
        "    if old_pin == self.pin:\n",
        "      new_pin = input(\"enter the new pin\")\n",
        "      self.pin = new_pin\n",
        "      print('pin created successfully')\n",
        "    else:\n",
        "      print('wrong pin, enter the corect pin')\n",
        "    self.menu()\n",
        "\n",
        "   # check balance method\n",
        "  def check_balance(self):\n",
        "    user_pin  = input(\"enter the pin\")\n",
        "    if user_pin==self.pin:\n",
        "      print(self.balance)\n",
        "    else:\n",
        "      print(\"wrong pin\")\n",
        "    self.menu()\n",
        "\n",
        "  #withdraw method\n",
        "  def withdraw(self):\n",
        "    user_pin = input(\"enter the pin\")\n",
        "    if user_pin == self.pin:\n",
        "      amount = int(input(\"enter the amount to be withdrawn: \"))\n",
        "      if amount <= self.balance:\n",
        "        self.balance = self.balance - amount\n",
        "        print(\"amount withdrawn successfully\")\n",
        "      else:\n",
        "        print(\"insufficiant amount\")\n",
        "    else:\n",
        "      print(\"wrong pin\")\n",
        "    self.menu()\n",
        "\n"
      ]
    },
    {
      "cell_type": "code",
      "source": [
        "b1 = Atm()"
      ],
      "metadata": {
        "colab": {
          "base_uri": "https://localhost:8080/"
        },
        "id": "vF2Tp12tqR4G",
        "outputId": "3313d9dd-9ecf-4876-f91d-740135568824"
      },
      "execution_count": 2,
      "outputs": [
        {
          "name": "stdout",
          "output_type": "stream",
          "text": [
            "\n",
            "               How can I help?\n",
            "               1. Press 1 to create pin\n",
            "               2. Press 2 to change pin\n",
            "               3. Press 3 to check balance\n",
            "               4. Press 4 to withdraw\n",
            "               5. Anythong else to exit\n",
            "               1\n",
            "Enter your pin1234\n",
            "Enter the balance10000\n",
            "pin created successfully\n",
            "\n",
            "               How can I help?\n",
            "               1. Press 1 to create pin\n",
            "               2. Press 2 to change pin\n",
            "               3. Press 3 to check balance\n",
            "               4. Press 4 to withdraw\n",
            "               5. Anythong else to exit\n",
            "               2\n",
            "enter the old pin1234\n",
            "enter the new pin4321\n",
            "pin created successfully\n",
            "\n",
            "               How can I help?\n",
            "               1. Press 1 to create pin\n",
            "               2. Press 2 to change pin\n",
            "               3. Press 3 to check balance\n",
            "               4. Press 4 to withdraw\n",
            "               5. Anythong else to exit\n",
            "               3\n",
            "enter the pin1234\n",
            "wrong pin\n",
            "\n",
            "               How can I help?\n",
            "               1. Press 1 to create pin\n",
            "               2. Press 2 to change pin\n",
            "               3. Press 3 to check balance\n",
            "               4. Press 4 to withdraw\n",
            "               5. Anythong else to exit\n",
            "               4321\n"
          ]
        }
      ]
    },
    {
      "cell_type": "code",
      "source": [
        "# create gussing game\n",
        "\n",
        "# create a random number\n",
        "\n",
        "import random\n",
        "\n",
        "number  = random.randint(1, 100)\n",
        "user_input = int(input(\"enter the number\"))\n",
        "\n",
        "while user_input != number:\n",
        "\n",
        "  if user_input > number:\n",
        "    print(\"Guess lower number\")\n",
        "  else:\n",
        "    print(\"Guess higher number\")\n",
        "  user_input = int(input(\"enter the number\"))\n",
        "print(\"Guessed correctly\")"
      ],
      "metadata": {
        "colab": {
          "base_uri": "https://localhost:8080/"
        },
        "id": "aye91jJvqU6V",
        "outputId": "cd7ef5a9-4188-40e5-b60a-68208b187242"
      },
      "execution_count": 16,
      "outputs": [
        {
          "output_type": "stream",
          "name": "stdout",
          "text": [
            "enter the number34\n",
            "Guess higher number\n",
            "enter the number56\n",
            "Guess higher number\n",
            "enter the number80\n",
            "Guess lower number\n",
            "enter the number70\n",
            "Guess lower number\n",
            "enter the number60\n",
            "Guess higher number\n",
            "enter the number65\n",
            "Guess higher number\n",
            "enter the number67\n",
            "Guessed correctly\n"
          ]
        }
      ]
    },
    {
      "cell_type": "code",
      "source": [
        "# multilevel inheritance\n",
        "\n",
        "class Employee:\n",
        "\n",
        "  def __init__(self, fname, lname, salary):\n",
        "    self.fname = fname\n",
        "    self.lname = lname\n",
        "    self.salary = salary\n",
        "\n",
        "  def get_details(self):\n",
        "\n",
        "    return f\"employee name is {self.fname} {self.lname} and salary is {self.salary}\"\n",
        "\n",
        "class Adress(Employee):\n",
        "\n",
        "  def __init__(self, fname, lname, salary, city, state):\n",
        "    super().__init__(fname, lname, salary)\n",
        "    self.city = city\n",
        "    self.state = state\n",
        "\n",
        "  def get_address(self):\n",
        "\n",
        "    return f\"Employee city is {self.city} and state is {self.state}\"\n",
        "\n",
        "  def get_details(self):  # method overriding\n",
        "    return f\"{self.fname} {self.lname} belongs to {self.state}\"\n",
        "\n",
        "\n",
        "class Department(Adress):\n",
        "\n",
        "  def __init__(self, fname, lname, salary, city, state, department):\n",
        "    super().__init__(fname, lname, salary, city, state)\n",
        "    self.department = department\n",
        "\n",
        "  def get_department(self):\n",
        "    return f\"Employee department is {self.department}\"\n",
        "\n",
        "  def get_details(self):\n",
        "    return f\"{self.fname} {self.lname} belongs to {self.department} department\"\n"
      ],
      "metadata": {
        "id": "qU_GNoj1qcJi"
      },
      "execution_count": 45,
      "outputs": []
    },
    {
      "cell_type": "code",
      "source": [
        "e1 = Employee('Biru', 'Solankar', 500000)\n",
        "a1 = Adress('Biru', 'Solankar', 500000, 'Pune', 'Maharashtra')\n",
        "d1 = Department('Biru', 'Solankar', 500000, 'Pune', 'Maharashtra', 'IT')"
      ],
      "metadata": {
        "id": "X5CqGL9wwlUF"
      },
      "execution_count": 38,
      "outputs": []
    },
    {
      "cell_type": "code",
      "source": [
        "print(e1.get_details())"
      ],
      "metadata": {
        "colab": {
          "base_uri": "https://localhost:8080/"
        },
        "id": "oHi0JFjg3_2V",
        "outputId": "7a09116a-da6b-403a-cf2f-23e8397f7e40"
      },
      "execution_count": 39,
      "outputs": [
        {
          "output_type": "stream",
          "name": "stdout",
          "text": [
            "employee name is Biru Solankar and salary is 500000\n"
          ]
        }
      ]
    },
    {
      "cell_type": "code",
      "source": [
        "a1.get_details()"
      ],
      "metadata": {
        "colab": {
          "base_uri": "https://localhost:8080/",
          "height": 35
        },
        "id": "Zq3aHnbH4BeM",
        "outputId": "d7cdd7c7-dea6-4840-eb15-e9b4a755c429"
      },
      "execution_count": 40,
      "outputs": [
        {
          "output_type": "execute_result",
          "data": {
            "text/plain": [
              "'Biru Solankar belongs to Maharashtra'"
            ],
            "application/vnd.google.colaboratory.intrinsic+json": {
              "type": "string"
            }
          },
          "metadata": {},
          "execution_count": 40
        }
      ]
    },
    {
      "cell_type": "code",
      "source": [
        "d1.department"
      ],
      "metadata": {
        "colab": {
          "base_uri": "https://localhost:8080/",
          "height": 35
        },
        "id": "d2dtD4Ws5FMI",
        "outputId": "e726d429-4b9c-4903-ac69-6ac8a8b9a8e8"
      },
      "execution_count": 44,
      "outputs": [
        {
          "output_type": "execute_result",
          "data": {
            "text/plain": [
              "'IT'"
            ],
            "application/vnd.google.colaboratory.intrinsic+json": {
              "type": "string"
            }
          },
          "metadata": {},
          "execution_count": 44
        }
      ]
    },
    {
      "cell_type": "markdown",
      "source": [
        "Q-1: Rectangle Class\n",
        "\n",
        "\n",
        "Write a Rectangle class in Python language, allowing you to build a rectangle with length and width attributes.\n",
        "\n",
        "Create a Perimeter() method to calculate the perimeter of the rectangle and a Area() method to calculate the area of ​​the rectangle.\n",
        "\n",
        "Create a method display() that display the length, width, perimeter and area of an object created using an instantiation on rectangle class."
      ],
      "metadata": {
        "id": "Zh4C-lvc6byt"
      }
    },
    {
      "cell_type": "code",
      "source": [
        "class Rectangle:\n",
        "\n",
        "  def __init__(self, l, b):\n",
        "    self.length = l\n",
        "    self.breadth = b\n",
        "\n",
        "  def perimeter(self):\n",
        "      return f\"perimeter of the ractangle is: {2*(self.length + self.breadth)}\"\n",
        "\n",
        "  def area(self):\n",
        "      return f\"area of the rectangle is: {self.length * self.breadth}\"\n",
        "\n",
        "  def display(self):\n",
        "    return f\"length of the rectangle is: {self.length} \\n breadth of the rectangle is: {self.breadth} \\n {self.perimeter()} \\n {self.area()}\""
      ],
      "metadata": {
        "id": "NEn6cHF95v5P"
      },
      "execution_count": 64,
      "outputs": []
    },
    {
      "cell_type": "code",
      "source": [
        "r1 = Rectangle(5,4)"
      ],
      "metadata": {
        "id": "j5915P2p7iim"
      },
      "execution_count": 65,
      "outputs": []
    },
    {
      "cell_type": "code",
      "source": [
        "print(r1.display())"
      ],
      "metadata": {
        "colab": {
          "base_uri": "https://localhost:8080/"
        },
        "id": "GfNYx1gB7o8L",
        "outputId": "fe933a69-f29d-4f44-f095-703d879ee0a2"
      },
      "execution_count": 66,
      "outputs": [
        {
          "output_type": "stream",
          "name": "stdout",
          "text": [
            "length of the rectangle is: 5 \n",
            " breadth of the rectangle is: 4 \n",
            " perimeter of the ractangle is: 18 \n",
            " area of the rectangle is: 20\n"
          ]
        }
      ]
    },
    {
      "cell_type": "markdown",
      "source": [
        "Q-2: Bank Class\n",
        "\n",
        "\n",
        "1.Create a Python class called BankAccount which represents a bank account, having as attributes: accountNumber (numeric type), name (name of the account owner as string type), balance.\n",
        "\n",
        "2.Create a constructor with parameters: accountNumber, name, balance.\n",
        "\n",
        "3.Create a Deposit() method which manages the deposit actions.\n",
        "\n",
        "4.Create a Withdrawal() method which manages withdrawals actions.\n",
        "\n",
        "5.Create an bankFees() method to apply the bank fees with a percentage of 5% of the balance account.\n",
        "\n",
        "6.Create a display() method to display account details. Give the complete code for the BankAccount class."
      ],
      "metadata": {
        "id": "uXrEVN_e9e7L"
      }
    },
    {
      "cell_type": "code",
      "source": [
        "class BankAccount:\n",
        "\n",
        "  def __init__(self, accountNumber, name, balance):\n",
        "    self.accountNumber = accountNumber\n",
        "    self.name = name\n",
        "    self.balance = balance\n",
        "\n",
        "  def deposit(self, amount):\n",
        "    self.balance = self.balance + amount\n",
        "    return f\"{amount} deposited successfully and current balance is {self.balance}\"\n",
        "\n",
        "  def withdrawal(self, amount):\n",
        "    if amount <= self.balance:\n",
        "      self.balance = self.balance - amount\n",
        "      return f\"{amount} withdrawn successfully and current balance is {self.balance}\"\n",
        "    else:\n",
        "      return f\"insufficient balance\"\n",
        "\n",
        "  def bankfees(self):\n",
        "    bankfees = self.balance*0.05\n",
        "    self.balance = self.balance - bankfees\n",
        "    return f\"{self.bankfess} deducted as bankfees and current balance is {self.balance}\"\n",
        "\n",
        "  def display(self):\n",
        "    return f\"account number: {self.accountNumber} \\n Account holder name: {self.name} \\n balance: {self.balance}\""
      ],
      "metadata": {
        "id": "ayXsdOZl7xDG"
      },
      "execution_count": 74,
      "outputs": []
    },
    {
      "cell_type": "code",
      "source": [
        "b1 = BankAccount(1234560000, 'Biru Solankar', 50000)"
      ],
      "metadata": {
        "id": "TPmid6UjAMvD"
      },
      "execution_count": 75,
      "outputs": []
    },
    {
      "cell_type": "code",
      "source": [
        "print(b1.display())"
      ],
      "metadata": {
        "colab": {
          "base_uri": "https://localhost:8080/"
        },
        "id": "svjcEq8CATGv",
        "outputId": "1b46cbab-c80d-41f1-abf5-61455ed74234"
      },
      "execution_count": 76,
      "outputs": [
        {
          "output_type": "stream",
          "name": "stdout",
          "text": [
            "account number: 1234560000 \n",
            " Account holder name: Biru Solankar \n",
            " balance: 50000\n"
          ]
        }
      ]
    },
    {
      "cell_type": "code",
      "source": [
        "b1.deposit(5000)"
      ],
      "metadata": {
        "colab": {
          "base_uri": "https://localhost:8080/",
          "height": 35
        },
        "id": "CwaFhCZ3AViP",
        "outputId": "13ff51a0-43e5-468d-ba4a-98ab9c4f4ea1"
      },
      "execution_count": 77,
      "outputs": [
        {
          "output_type": "execute_result",
          "data": {
            "text/plain": [
              "'5000 deposited successfully and current balance is 55000'"
            ],
            "application/vnd.google.colaboratory.intrinsic+json": {
              "type": "string"
            }
          },
          "metadata": {},
          "execution_count": 77
        }
      ]
    },
    {
      "cell_type": "code",
      "source": [
        "b1.balance"
      ],
      "metadata": {
        "colab": {
          "base_uri": "https://localhost:8080/"
        },
        "id": "uw3cReMDA74e",
        "outputId": "2e3c1adc-f6fc-4bbb-f34f-53a05c72e723"
      },
      "execution_count": 78,
      "outputs": [
        {
          "output_type": "execute_result",
          "data": {
            "text/plain": [
              "55000"
            ]
          },
          "metadata": {},
          "execution_count": 78
        }
      ]
    },
    {
      "cell_type": "code",
      "source": [],
      "metadata": {
        "id": "B3MiGUGnA_95"
      },
      "execution_count": null,
      "outputs": []
    }
  ]
}