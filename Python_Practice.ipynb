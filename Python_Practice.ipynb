{
  "nbformat": 4,
  "nbformat_minor": 0,
  "metadata": {
    "colab": {
      "provenance": [],
      "authorship_tag": "ABX9TyOe6oJFpEGfvM4cYy3WdoOM",
      "include_colab_link": true
    },
    "kernelspec": {
      "name": "python3",
      "display_name": "Python 3"
    },
    "language_info": {
      "name": "python"
    }
  },
  "cells": [
    {
      "cell_type": "markdown",
      "metadata": {
        "id": "view-in-github",
        "colab_type": "text"
      },
      "source": [
        "<a href=\"https://colab.research.google.com/github/birusolankar/Tasks/blob/main/Python_Practice.ipynb\" target=\"_parent\"><img src=\"https://colab.research.google.com/assets/colab-badge.svg\" alt=\"Open In Colab\"/></a>"
      ]
    },
    {
      "cell_type": "code",
      "execution_count": 1,
      "metadata": {
        "id": "6ruhgEW1coCr"
      },
      "outputs": [],
      "source": [
        "# create a banking class\n",
        "\n",
        "class Atm:\n",
        "\n",
        "  def __init__(self):  # non perimetirized constructor\n",
        "    self.pin = ''\n",
        "    self.balance = 0\n",
        "    self.menu()\n",
        "\n",
        "\n",
        "  def menu(self):\n",
        "    user_input = input(\n",
        "\n",
        "               \"\"\"\n",
        "               How can I help?\n",
        "               1. Press 1 to create pin\n",
        "               2. Press 2 to change pin\n",
        "               3. Press 3 to check balance\n",
        "               4. Press 4 to withdraw\n",
        "               5. Anythong else to exit\n",
        "               \"\"\")\n",
        "\n",
        "    if user_input == '1':\n",
        "      self.create_pin()\n",
        "    elif user_input == '2':\n",
        "      self.change_pin()\n",
        "    elif user_input == '3':\n",
        "      self.check_balance()\n",
        "    elif user_input == '4':\n",
        "      self.withdraw()\n",
        "    else:\n",
        "      exit()\n",
        "\n",
        "  # create pin method\n",
        "  def create_pin(self):\n",
        "    user_pin = input('Enter your pin')\n",
        "    self.pin = user_pin\n",
        "\n",
        "    user_balance = int(input(\"Enter the balance\"))\n",
        "    self.balance = user_balance\n",
        "\n",
        "    print(\"pin created successfully\")\n",
        "    self.menu()\n",
        "\n",
        "  # change pin method\n",
        "  def change_pin(self):\n",
        "\n",
        "    old_pin = input('enter the old pin')\n",
        "    if old_pin == self.pin:\n",
        "      new_pin = input(\"enter the new pin\")\n",
        "      self.pin = new_pin\n",
        "      print('pin created successfully')\n",
        "    else:\n",
        "      print('wrong pin, enter the corect pin')\n",
        "    self.menu()\n",
        "\n",
        "   # check balance method\n",
        "  def check_balance(self):\n",
        "    user_pin  = input(\"enter the pin\")\n",
        "    if user_pin==self.pin:\n",
        "      print(self.balance)\n",
        "    else:\n",
        "      print(\"wrong pin\")\n",
        "    self.menu()\n",
        "\n",
        "  #withdraw method\n",
        "  def withdraw(self):\n",
        "    user_pin = input(\"enter the pin\")\n",
        "    if user_pin == self.pin:\n",
        "      amount = int(input(\"enter the amount to be withdrawn: \"))\n",
        "      if amount <= self.balance:\n",
        "        self.balance = self.balance - amount\n",
        "        print(\"amount withdrawn successfully\")\n",
        "      else:\n",
        "        print(\"insufficiant amount\")\n",
        "    else:\n",
        "      print(\"wrong pin\")\n",
        "    self.menu()\n",
        "\n"
      ]
    },
    {
      "cell_type": "code",
      "source": [
        "b1 = Atm()"
      ],
      "metadata": {
        "colab": {
          "base_uri": "https://localhost:8080/"
        },
        "id": "vF2Tp12tqR4G",
        "outputId": "3313d9dd-9ecf-4876-f91d-740135568824"
      },
      "execution_count": 2,
      "outputs": [
        {
          "name": "stdout",
          "output_type": "stream",
          "text": [
            "\n",
            "               How can I help?\n",
            "               1. Press 1 to create pin\n",
            "               2. Press 2 to change pin\n",
            "               3. Press 3 to check balance\n",
            "               4. Press 4 to withdraw\n",
            "               5. Anythong else to exit\n",
            "               1\n",
            "Enter your pin1234\n",
            "Enter the balance10000\n",
            "pin created successfully\n",
            "\n",
            "               How can I help?\n",
            "               1. Press 1 to create pin\n",
            "               2. Press 2 to change pin\n",
            "               3. Press 3 to check balance\n",
            "               4. Press 4 to withdraw\n",
            "               5. Anythong else to exit\n",
            "               2\n",
            "enter the old pin1234\n",
            "enter the new pin4321\n",
            "pin created successfully\n",
            "\n",
            "               How can I help?\n",
            "               1. Press 1 to create pin\n",
            "               2. Press 2 to change pin\n",
            "               3. Press 3 to check balance\n",
            "               4. Press 4 to withdraw\n",
            "               5. Anythong else to exit\n",
            "               3\n",
            "enter the pin1234\n",
            "wrong pin\n",
            "\n",
            "               How can I help?\n",
            "               1. Press 1 to create pin\n",
            "               2. Press 2 to change pin\n",
            "               3. Press 3 to check balance\n",
            "               4. Press 4 to withdraw\n",
            "               5. Anythong else to exit\n",
            "               4321\n"
          ]
        }
      ]
    },
    {
      "cell_type": "code",
      "source": [
        "# create gussing game\n",
        "\n",
        "# create a random number\n",
        "\n",
        "import random\n",
        "\n",
        "number  = random.randint(1, 100)\n",
        "user_input = int(input(\"enter the number\"))\n",
        "\n",
        "while user_input != number:\n",
        "\n",
        "  if user_input > number:\n",
        "    print(\"Guess lower number\")\n",
        "  else:\n",
        "    print(\"Guess higher number\")\n",
        "  user_input = int(input(\"enter the number\"))\n",
        "print(\"Guessed correctly\")"
      ],
      "metadata": {
        "colab": {
          "base_uri": "https://localhost:8080/"
        },
        "id": "aye91jJvqU6V",
        "outputId": "cd7ef5a9-4188-40e5-b60a-68208b187242"
      },
      "execution_count": 16,
      "outputs": [
        {
          "output_type": "stream",
          "name": "stdout",
          "text": [
            "enter the number34\n",
            "Guess higher number\n",
            "enter the number56\n",
            "Guess higher number\n",
            "enter the number80\n",
            "Guess lower number\n",
            "enter the number70\n",
            "Guess lower number\n",
            "enter the number60\n",
            "Guess higher number\n",
            "enter the number65\n",
            "Guess higher number\n",
            "enter the number67\n",
            "Guessed correctly\n"
          ]
        }
      ]
    },
    {
      "cell_type": "code",
      "source": [
        "# multilevel inheritance\n",
        "\n",
        "class Employee:\n",
        "\n",
        "  def __init__(self, fname, lname, salary):\n",
        "    self.fname = fname\n",
        "    self.lname = lname\n",
        "    self.salary = salary\n",
        "\n",
        "  def get_details(self):\n",
        "\n",
        "    return f\"employee name is {self.fname} {self.lname} and salary is {self.salary}\"\n",
        "\n",
        "\n"
      ],
      "metadata": {
        "id": "qU_GNoj1qcJi"
      },
      "execution_count": 17,
      "outputs": []
    },
    {
      "cell_type": "code",
      "source": [
        "e1 = Employee('Biru', 'Solankar', 500000)"
      ],
      "metadata": {
        "id": "X5CqGL9wwlUF"
      },
      "execution_count": 18,
      "outputs": []
    },
    {
      "cell_type": "code",
      "source": [
        "print(e1.get_details())"
      ],
      "metadata": {
        "colab": {
          "base_uri": "https://localhost:8080/"
        },
        "id": "oHi0JFjg3_2V",
        "outputId": "568f0c9d-2627-43f4-e03c-860b166a29f0"
      },
      "execution_count": 21,
      "outputs": [
        {
          "output_type": "stream",
          "name": "stdout",
          "text": [
            "employee name is Biru Solankar and salary is 500000\n"
          ]
        }
      ]
    },
    {
      "cell_type": "code",
      "source": [],
      "metadata": {
        "id": "Zq3aHnbH4BeM"
      },
      "execution_count": null,
      "outputs": []
    }
  ]
}